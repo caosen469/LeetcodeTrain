{
 "metadata": {
  "language_info": {
   "codemirror_mode": {
    "name": "ipython",
    "version": 3
   },
   "file_extension": ".py",
   "mimetype": "text/x-python",
   "name": "python",
   "nbconvert_exporter": "python",
   "pygments_lexer": "ipython3",
   "version": "3.8.1-final"
  },
  "orig_nbformat": 2,
  "kernelspec": {
   "name": "python38132bitd7227d90902b4bec9bc354e502096de8",
   "display_name": "Python 3.8.1 32-bit"
  }
 },
 "nbformat": 4,
 "nbformat_minor": 2,
 "cells": [
  {
   "cell_type": "code",
   "execution_count": 23,
   "metadata": {},
   "outputs": [],
   "source": [
    "# Node class, a node is a little square in the node list\n",
    "class ListNode:\n",
    "    \n",
    "    def __init__(self, val=0, next=None):\n",
    "         self.val = val\n",
    "         self.next = next\n",
    "\n",
    "    def __str__(self):\n",
    "        return str(self.val)\n"
   ]
  },
  {
   "cell_type": "code",
   "execution_count": 24,
   "metadata": {
    "tags": []
   },
   "outputs": [],
   "source": [
    "Node1 = ListNode(1)\n",
    "Node2 = ListNode(2)\n",
    "Node3 = ListNode(3)\n",
    "Node1.next = Node2\n",
    "Node2.next = Node3"
   ]
  },
  {
   "cell_type": "code",
   "execution_count": 77,
   "metadata": {},
   "outputs": [],
   "source": [
    "class List:\n",
    "    \n",
    "    def __init__(self, head=None, pointer=None):\n",
    "        self.head = head # the head is the head Node\n",
    "        self.pointer = head # The pointer also represent a node.\n",
    "\n",
    "    # add node to the list, the input should be a list node\n",
    "    def add_node(self, new_node: ListNode):\n",
    "        self.pointer.next = new_node\n",
    "        self.pointer = new_node\n",
    "    # delete a node in the list, the input should be the index of a node the user want to delete\n",
    "    def delete_node_value(self, delete_vlaue):\n",
    "        # the issue is that there may be multiple nodes have the value we want to delete\n",
    "        #self.search\n",
    "        if self.search(delete_vlaue) == None:\n",
    "            return\n",
    "        self.pointer = self.search(delete_vlaue)\n",
    "        temporary_pointer = self.pointer\n",
    "        self.move_left()\n",
    "        self.pointer.next = temporary_pointer.next\n",
    "        return\n",
    "\n",
    "        \n",
    "    def move_left(self):\n",
    "        temporary_pointer = self.head\n",
    "        while temporary_pointer != None:\n",
    "            if temporary_pointer.next == self.pointer:\n",
    "                self.pointer = temporary_pointer\n",
    "                return\n",
    "            temporary_pointer = temporary_pointer.next\n",
    "    def move_right(self):\n",
    "        temporary_pointer = self.head\n",
    "        while temporary_pointer != None:\n",
    "            if self.pointer.next == temporary_pointer:\n",
    "                self.pointer = temporary_pointer\n",
    "                return\n",
    "            temporary_pointer = temporary_pointer.next\n",
    "\n",
    "        \n",
    "\n",
    "    def search(self, search_value):\n",
    "        # search a value in the list\n",
    "        #from head to end\n",
    "        self.pointer = self.head\n",
    "        while self.pointer != None:\n",
    "            if self.pointer.val == search_value:\n",
    "                return self.pointer\n",
    "            else:\n",
    "                 self.pointer = self.pointer.next\n",
    "        print(\"No value is found in this Node list\")\n",
    "        return None\n",
    "\n",
    "    # The head is the where we want to start, it should not be there, but I don't know how to write a recursion function which has no argument\n",
    "    def show_value_in_order(self, head):\n",
    "        self.pointer = head\n",
    "        if self.pointer.next == None:\n",
    "            print(self.pointer.val)\n",
    "        else:\n",
    "            print(self.pointer.val)\n",
    "            self.show_value_in_order(self.pointer.next)\n",
    "\n",
    "\n",
    "\n",
    "\n"
   ]
  },
  {
   "cell_type": "code",
   "execution_count": 78,
   "metadata": {
    "tags": []
   },
   "outputs": [
    {
     "output_type": "stream",
     "name": "stdout",
     "text": "4\n5\n6\n7\nNo value is found in this Node list\n---------------------\n4\n5\n6\n7\n"
    }
   ],
   "source": [
    "Node4 = ListNode(4)\n",
    "Node5 = ListNode(5)\n",
    "Node6 = ListNode(6)\n",
    "Node7 = ListNode(7)\n",
    "A = List(Node4)\n",
    "A.add_node(Node5)\n",
    "A.add_node(Node6)\n",
    "A.add_node(Node7)\n",
    "#print(A.search(4))\n",
    "A.show_value_in_order(Node4)\n",
    "A.move_left()\n",
    "A.delete_node_value(1)\n",
    "print(\"---------------------\")\n",
    "A.show_value_in_order(Node4)\n"
   ]
  },
  {
   "cell_type": "code",
   "execution_count": 10,
   "metadata": {},
   "outputs": [],
   "source": [
    "class Solution:\n",
    "    def addTwoNumbers(self, l1: ListNode, l2: ListNode) -> ListNode:\n",
    "        "
   ]
  }
 ]
}